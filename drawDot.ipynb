{
 "cells": [
  {
   "cell_type": "code",
   "execution_count": 2,
   "id": "8913e123-c8a0-44b4-8b56-8470fa455b60",
   "metadata": {},
   "outputs": [],
   "source": [
    "from graphviz import Digraph\n",
    "\n",
    "class DrawDot: \n",
    "    def trace(root):\n",
    "        #builds a set of all nodes and edges in graph\n",
    "        nodes, edges = set(), set()\n",
    "        def build(v):\n",
    "            if v not in nodes: \n",
    "                nodes.add(v)\n",
    "                for child in v._prev:\n",
    "                    edges.add((child, v))\n",
    "                    build(child)\n",
    "        build(root)\n",
    "        return nodes, edges\n",
    "    \n",
    "    def draw_dot(root):\n",
    "        dot = Digraph(format = 'svg', graph_attr = {'rankdir' : 'LR'}) #LR - Left to Right\n",
    "    \n",
    "        nodes, edges = trace(root)\n",
    "        for n in nodes:\n",
    "            uid = str(id(n))\n",
    "            #for any value in the graph create a rectangular ('record') node for it\n",
    "            dot.node(name = uid, label = \"{ %s | data %.4f | grad %.4f }\" % (n.label, n.data, n.grad ), shape = 'record')\n",
    "            if n._op:\n",
    "                #if the result is the value of some sort of op, create an op node for it\n",
    "                dot.node(name = uid + n._op, label = n._op)\n",
    "                #and connect this node to it\n",
    "                dot.edge(uid + n._op, uid)\n",
    "        for n1, n2 in edges:\n",
    "            #connect n1 to the op node of n2\n",
    "            dot.edge(str(id(n1)), str(id(n2)) + n2._op)\n",
    "        return dot\n",
    "    \n",
    "            "
   ]
  },
  {
   "cell_type": "code",
   "execution_count": null,
   "id": "c372852b-a83d-404b-a05e-bb565b7c5daf",
   "metadata": {},
   "outputs": [],
   "source": []
  }
 ],
 "metadata": {
  "kernelspec": {
   "display_name": "Python 3 (ipykernel)",
   "language": "python",
   "name": "python3"
  },
  "language_info": {
   "codemirror_mode": {
    "name": "ipython",
    "version": 3
   },
   "file_extension": ".py",
   "mimetype": "text/x-python",
   "name": "python",
   "nbconvert_exporter": "python",
   "pygments_lexer": "ipython3",
   "version": "3.12.4"
  }
 },
 "nbformat": 4,
 "nbformat_minor": 5
}
